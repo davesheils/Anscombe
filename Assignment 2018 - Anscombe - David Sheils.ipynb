{
 "cells": [
  {
   "cell_type": "markdown",
   "metadata": {},
   "source": [
    "# Fundamentals of Data Analysis"
   ]
  },
  {
   "cell_type": "markdown",
   "metadata": {},
   "source": [
    "\n",
    "## Background to the dataset\n",
    "\n",
    "\n",
    "\n",
    "\n",
    "\n",
    "\n",
    "### Who created it\n",
    "\n",
    "\n",
    "The four datasets that are the subject of this assignment were created by english statistician Francis John \"Frank\" Anscombe (1) and introduced in his 1973 paper \"Graphs in Statistical Analysis\". Anscombe felt that textbooks on statistical methods and statistical programs paid too little attention to graphs. He felt that \"we\" (presumably the statistical/computing profession of his day) were indoctrinated with the notions that:\n",
    "\n",
    "1. Whereas numerical calculations are exact, graphs are rough\n",
    "2. For any particular set of data, there is only one set of calculations that constitute a correct statistical analysis.\n",
    "3. Performing intricate calculations is virtous, whereas looking the data is cheating\n",
    "\n",
    "(Anscobme, 1973, p1)\n",
    "\n",
    "By contrast, Anscombe felt that both calculations and graphs should be utilised as both would contribute to understanding. Anscombe therefore developed the dataset to demonstrate the importance of visualising data before analyzing the data according to a particular type of relationship. It may also be used to demonstrate the inadequacy of basic statistic properties for describing realistic datasets (3)\n",
    " \n",
    "\n",
    "### How it might have been created\n"
   ]
  },
  {
   "cell_type": "markdown",
   "metadata": {},
   "source": [
    "## Plotting interesting aspects of the dataset"
   ]
  },
  {
   "cell_type": "code",
   "execution_count": 19,
   "metadata": {},
   "outputs": [
    {
     "data": {
      "text/html": [
       "<div>\n",
       "<style>\n",
       "    .dataframe thead tr:only-child th {\n",
       "        text-align: right;\n",
       "    }\n",
       "\n",
       "    .dataframe thead th {\n",
       "        text-align: left;\n",
       "    }\n",
       "\n",
       "    .dataframe tbody tr th {\n",
       "        vertical-align: top;\n",
       "    }\n",
       "</style>\n",
       "<table border=\"1\" class=\"dataframe\">\n",
       "  <thead>\n",
       "    <tr style=\"text-align: right;\">\n",
       "      <th></th>\n",
       "      <th>x1-3</th>\n",
       "      <th>y1</th>\n",
       "      <th>y2</th>\n",
       "      <th>y3</th>\n",
       "      <th>x4</th>\n",
       "      <th>y4</th>\n",
       "    </tr>\n",
       "  </thead>\n",
       "  <tbody>\n",
       "    <tr>\n",
       "      <th>0</th>\n",
       "      <td>10</td>\n",
       "      <td>8.04</td>\n",
       "      <td>9.14</td>\n",
       "      <td>7.46</td>\n",
       "      <td>8</td>\n",
       "      <td>6.58</td>\n",
       "    </tr>\n",
       "    <tr>\n",
       "      <th>1</th>\n",
       "      <td>8</td>\n",
       "      <td>6.95</td>\n",
       "      <td>8.14</td>\n",
       "      <td>6.77</td>\n",
       "      <td>8</td>\n",
       "      <td>5.76</td>\n",
       "    </tr>\n",
       "    <tr>\n",
       "      <th>2</th>\n",
       "      <td>13</td>\n",
       "      <td>7.58</td>\n",
       "      <td>8.74</td>\n",
       "      <td>12.74</td>\n",
       "      <td>8</td>\n",
       "      <td>7.71</td>\n",
       "    </tr>\n",
       "    <tr>\n",
       "      <th>3</th>\n",
       "      <td>9</td>\n",
       "      <td>8.81</td>\n",
       "      <td>8.77</td>\n",
       "      <td>7.11</td>\n",
       "      <td>8</td>\n",
       "      <td>8.84</td>\n",
       "    </tr>\n",
       "    <tr>\n",
       "      <th>4</th>\n",
       "      <td>11</td>\n",
       "      <td>8.33</td>\n",
       "      <td>9.26</td>\n",
       "      <td>7.81</td>\n",
       "      <td>8</td>\n",
       "      <td>8.47</td>\n",
       "    </tr>\n",
       "    <tr>\n",
       "      <th>5</th>\n",
       "      <td>14</td>\n",
       "      <td>9.96</td>\n",
       "      <td>8.10</td>\n",
       "      <td>8.84</td>\n",
       "      <td>8</td>\n",
       "      <td>7.04</td>\n",
       "    </tr>\n",
       "    <tr>\n",
       "      <th>6</th>\n",
       "      <td>6</td>\n",
       "      <td>7.24</td>\n",
       "      <td>6.13</td>\n",
       "      <td>6.08</td>\n",
       "      <td>8</td>\n",
       "      <td>5.25</td>\n",
       "    </tr>\n",
       "    <tr>\n",
       "      <th>7</th>\n",
       "      <td>4</td>\n",
       "      <td>4.26</td>\n",
       "      <td>3.10</td>\n",
       "      <td>5.39</td>\n",
       "      <td>19</td>\n",
       "      <td>12.50</td>\n",
       "    </tr>\n",
       "    <tr>\n",
       "      <th>8</th>\n",
       "      <td>12</td>\n",
       "      <td>10.84</td>\n",
       "      <td>9.13</td>\n",
       "      <td>8.15</td>\n",
       "      <td>8</td>\n",
       "      <td>5.56</td>\n",
       "    </tr>\n",
       "    <tr>\n",
       "      <th>9</th>\n",
       "      <td>7</td>\n",
       "      <td>4.82</td>\n",
       "      <td>7.26</td>\n",
       "      <td>6.42</td>\n",
       "      <td>8</td>\n",
       "      <td>7.91</td>\n",
       "    </tr>\n",
       "    <tr>\n",
       "      <th>10</th>\n",
       "      <td>5</td>\n",
       "      <td>5.68</td>\n",
       "      <td>4.74</td>\n",
       "      <td>5.73</td>\n",
       "      <td>8</td>\n",
       "      <td>6.89</td>\n",
       "    </tr>\n",
       "  </tbody>\n",
       "</table>\n",
       "</div>"
      ],
      "text/plain": [
       "    x1-3     y1    y2     y3  x4     y4\n",
       "0     10   8.04  9.14   7.46   8   6.58\n",
       "1      8   6.95  8.14   6.77   8   5.76\n",
       "2     13   7.58  8.74  12.74   8   7.71\n",
       "3      9   8.81  8.77   7.11   8   8.84\n",
       "4     11   8.33  9.26   7.81   8   8.47\n",
       "5     14   9.96  8.10   8.84   8   7.04\n",
       "6      6   7.24  6.13   6.08   8   5.25\n",
       "7      4   4.26  3.10   5.39  19  12.50\n",
       "8     12  10.84  9.13   8.15   8   5.56\n",
       "9      7   4.82  7.26   6.42   8   7.91\n",
       "10     5   5.68  4.74   5.73   8   6.89"
      ]
     },
     "execution_count": 19,
     "metadata": {},
     "output_type": "execute_result"
    }
   ],
   "source": [
    "# first import the libraries we will use in this analysis\n",
    "\n",
    "\n",
    "import numpy as np\n",
    "import pandas as pd\n",
    "import matplotlib.pyplot as plt\n",
    "import seaborn as sns\n",
    "\n",
    "# import the datasets as a data frame and print\n",
    "df = pd.read_csv('Anscombe Datasets 1 - 4.csv')\n",
    "\n",
    "df\n",
    "\n",
    "\n"
   ]
  },
  {
   "cell_type": "markdown",
   "metadata": {},
   "source": [
    "## Plotting interesting aspects of the dataset"
   ]
  },
  {
   "cell_type": "markdown",
   "metadata": {},
   "source": [
    "### Dataset 1"
   ]
  },
  {
   "cell_type": "code",
   "execution_count": 36,
   "metadata": {},
   "outputs": [
    {
     "data": {
      "image/png": "[encoded data removed]",
      "text/plain": [
       "<matplotlib.figure.Figure at 0x1a16fab2e8>"
      ]
     },
     "metadata": {},
     "output_type": "display_data"
    }
   ],
   "source": [
    "# Simple scatterplot: x1, y1\n",
    "\n",
    "plt.plot(df['x1-3'],df['y1'], 'b.', label = r\"Dataset 1\")\n",
    "\n",
    "# add regression line: equation of a line = y = mx + c\n",
    "# np.polyfit returns an array of two values, m and c\n",
    "\n",
    "mc = np.polyfit(df['x1-3'],df['y1'],1)\n",
    "\n",
    "plt.plot(df['x1-3'], mc[0]*df['x1-3'] + mc[1], 'r', label= \"Regression line\")\n",
    "\n",
    "plt.legend()\n",
    "\n",
    "# add axis labels\n",
    "plt.xlabel(\"x1\")\n",
    "plt.ylabel(\"y1\")\n",
    "plt.show()\n",
    "\n"
   ]
  },
  {
   "cell_type": "markdown",
   "metadata": {},
   "source": [
    "### Dataset 2"
   ]
  },
  {
   "cell_type": "code",
   "execution_count": 37,
   "metadata": {},
   "outputs": [
    {
     "data": {
      "image/png": "[encoded data removed]",
      "text/plain": [
       "<matplotlib.figure.Figure at 0x1a178a74e0>"
      ]
     },
     "metadata": {},
     "output_type": "display_data"
    }
   ],
   "source": [
    "plt.plot(df['x1-3'],df['y2'], 'b.', label = r\"Dataset 2\")\n",
    "\n",
    "\n",
    "mc = np.polyfit(df['x1-3'],df['y2'],1)\n",
    "\n",
    "plt.plot(df['x1-3'], mc[0]*df['x1-3'] + mc[1], 'r', label= \"Regression line\")\n",
    "\n",
    "\n",
    "\n",
    "\n",
    "plt.legend()\n",
    "\n",
    "plt.xlabel(\"x2\")\n",
    "plt.ylabel(\"y2\")\n",
    "\n",
    "plt.show()\n",
    "\n"
   ]
  },
  {
   "cell_type": "markdown",
   "metadata": {},
   "source": [
    "### Dataset 3"
   ]
  },
  {
   "cell_type": "code",
   "execution_count": 38,
   "metadata": {},
   "outputs": [
    {
     "data": {
      "image/png": "[encoded data removed]",
      "text/plain": [
       "<matplotlib.figure.Figure at 0x1a176220f0>"
      ]
     },
     "metadata": {},
     "output_type": "display_data"
    }
   ],
   "source": [
    "plt.plot(df['x1-3'],df['y3'], 'b.', label = r\"Dataset 3\")\n",
    "\n",
    "mc = np.polyfit(df['x1-3'],df['y3'],1)\n",
    "\n",
    "plt.plot(df['x1-3'], mc[0]*df['x1-3'] + mc[1], 'r', label= \"Regression line\")\n",
    "\n",
    "\n",
    "plt.legend()\n",
    "plt.xlabel(\"x3\")\n",
    "plt.ylabel(\"y3\")\n",
    "plt.show()\n",
    "\n"
   ]
  },
  {
   "cell_type": "markdown",
   "metadata": {},
   "source": [
    "### Dataset 4"
   ]
  },
  {
   "cell_type": "code",
   "execution_count": 39,
   "metadata": {},
   "outputs": [
    {
     "data": {
      "image/png": "[encoded data removed]",
      "text/plain": [
       "<matplotlib.figure.Figure at 0x1a17307c88>"
      ]
     },
     "metadata": {},
     "output_type": "display_data"
    }
   ],
   "source": [
    "plt.plot(df['x4'],df['y4'], 'b.', label = r\"Dataset 4\")\n",
    "\n",
    "\n",
    "mc = np.polyfit(df['x4'],df['y4'],1)\n",
    "\n",
    "plt.plot(df['x4'], mc[0]*df['x4'] + mc[1], 'r', label= \"Regression line\")\n",
    "\n",
    "\n",
    "\n",
    "\n",
    "plt.legend()\n",
    "\n",
    "plt.xlabel(\"x4\")\n",
    "plt.ylabel(\"y4\")\n",
    "plt.show()"
   ]
  },
  {
   "cell_type": "code",
   "execution_count": null,
   "metadata": {
    "collapsed": true
   },
   "outputs": [],
   "source": []
  },
  {
   "cell_type": "code",
   "execution_count": null,
   "metadata": {
    "collapsed": true
   },
   "outputs": [],
   "source": []
  },
  {
   "cell_type": "markdown",
   "metadata": {},
   "source": [
    "## Calculating the descriptive statistics of the dataset"
   ]
  },
  {
   "cell_type": "code",
   "execution_count": null,
   "metadata": {
    "collapsed": true
   },
   "outputs": [],
   "source": [
    "# calcualate summary descriptions using pandas or numpy"
   ]
  },
  {
   "cell_type": "markdown",
   "metadata": {},
   "source": [
    "## With reference to the statistics and plots above, why is this dataset interesting"
   ]
  },
  {
   "cell_type": "markdown",
   "metadata": {},
   "source": [
    "Commentry, refering to Anscombes purpose in creating the dataset."
   ]
  },
  {
   "cell_type": "code",
   "execution_count": null,
   "metadata": {
    "collapsed": true
   },
   "outputs": [],
   "source": []
  },
  {
   "cell_type": "code",
   "execution_count": null,
   "metadata": {
    "collapsed": true
   },
   "outputs": [],
   "source": []
  },
  {
   "cell_type": "markdown",
   "metadata": {},
   "source": [
    "## References\n",
    "1. \"Frank Anscombe\", Wikipedia, https://en.wikipedia.org/wiki/Frank_Anscombe (accessed 02/11/2018)\n",
    "2. Anscombe, F.J., \"Graphs in Statistical Analysis\" , The American Statistician, Vol. 27, No. 1. (Feb., 1973), pp. 17-21. (copy available from JSTOR: http://links.jstor.org/sici?sici=0003-1305%28197302%2927%3A1%3C17%3AGISA%3E2.0.CO%3B2-J accessed 02/11/2018)\n",
    "The American Statistician, Vol. 27, No. 1. (Feb., 1973), pp. 17-21\n",
    "3. \"Anscombe's quartet\", Wikipedia, https://en.wikipedia.org/wiki/Anscombe%27s_quartet (accessed 02/11/2018)"
   ]
  },
  {
   "cell_type": "code",
   "execution_count": null,
   "metadata": {
    "collapsed": true
   },
   "outputs": [],
   "source": []
  }
 ],
 "metadata": {
  "kernelspec": {
   "display_name": "Python 3",
   "language": "python",
   "name": "python3"
  },
  "language_info": {
   "codemirror_mode": {
    "name": "ipython",
    "version": 3
   },
   "file_extension": ".py",
   "mimetype": "text/x-python",
   "name": "python",
   "nbconvert_exporter": "python",
   "pygments_lexer": "ipython3",
   "version": "3.6.3"
  }
 },
 "nbformat": 4,
 "nbformat_minor": 2
}
